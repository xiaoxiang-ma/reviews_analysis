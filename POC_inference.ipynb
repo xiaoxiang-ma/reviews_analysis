{
 "cells": [
  {
   "cell_type": "code",
   "execution_count": 1,
   "metadata": {},
   "outputs": [],
   "source": [
    "import pandas as pd\n",
    "import numpy as np\n",
    "# from pyabsa.functional import ABSADatasetList\n",
    "# from pyabsa.functional import ATEPCCheckpointManager\n",
    "import pickle"
   ]
  },
  {
   "cell_type": "code",
   "execution_count": 2,
   "metadata": {},
   "outputs": [],
   "source": [
    "# import random\n",
    "from functools import partial\n",
    "\n",
    "import numpy as np\n",
    "import pandas as pd\n",
    "import matplotlib.pyplot as plt\n",
    "import hdbscan\n",
    "import umap\n",
    "import tensorflow as tf\n",
    "\n",
    "import tensorflow_hub as hub\n",
    "\n",
    "from sentence_transformers import SentenceTransformer"
   ]
  },
  {
   "cell_type": "code",
   "execution_count": 3,
   "metadata": {},
   "outputs": [],
   "source": [
    "try:\n",
    "    with open('POC_sentence_transformer.pkl', 'rb') as file:\n",
    "        sentence_transformer = pickle.load(file)\n",
    "except:\n",
    "    print(\"failed\")\n"
   ]
  },
  {
   "cell_type": "code",
   "execution_count": 4,
   "metadata": {},
   "outputs": [],
   "source": [
    "try:\n",
    "    with open('POC_umap_reducer.pkl', 'rb') as file:\n",
    "        umap_reducer = pickle.load(file)\n",
    "except:\n",
    "    print(\"failed\")\n"
   ]
  },
  {
   "cell_type": "code",
   "execution_count": 5,
   "metadata": {},
   "outputs": [],
   "source": [
    "try:\n",
    "    with open('POC_hdbscan_clusters.pkl', 'rb') as file:\n",
    "        hdbscan_clusters = pickle.load(file)\n",
    "except:\n",
    "    print(\"failed\")\n"
   ]
  },
  {
   "cell_type": "code",
   "execution_count": 6,
   "metadata": {},
   "outputs": [],
   "source": [
    "try:\n",
    "    corpus_clusters = pd.read_csv(\"POC_clusters.csv\")\n",
    "except:\n",
    "    print(\"failed\")\n",
    "\n"
   ]
  },
  {
   "cell_type": "code",
   "execution_count": 7,
   "metadata": {},
   "outputs": [
    {
     "data": {
      "text/html": [
       "<div>\n",
       "<style scoped>\n",
       "    .dataframe tbody tr th:only-of-type {\n",
       "        vertical-align: middle;\n",
       "    }\n",
       "\n",
       "    .dataframe tbody tr th {\n",
       "        vertical-align: top;\n",
       "    }\n",
       "\n",
       "    .dataframe thead th {\n",
       "        text-align: right;\n",
       "    }\n",
       "</style>\n",
       "<table border=\"1\" class=\"dataframe\">\n",
       "  <thead>\n",
       "    <tr style=\"text-align: right;\">\n",
       "      <th></th>\n",
       "      <th>Unnamed: 0</th>\n",
       "      <th>label_st1</th>\n",
       "      <th>group</th>\n",
       "    </tr>\n",
       "  </thead>\n",
       "  <tbody>\n",
       "    <tr>\n",
       "      <th>0</th>\n",
       "      <td>0</td>\n",
       "      <td>-1</td>\n",
       "      <td>cranberry,interior,sever,Hiro,styrofoam,regist...</td>\n",
       "    </tr>\n",
       "    <tr>\n",
       "      <th>1</th>\n",
       "      <td>1</td>\n",
       "      <td>0</td>\n",
       "      <td>food,food,food,food,food,food,food,food,food,f...</td>\n",
       "    </tr>\n",
       "    <tr>\n",
       "      <th>2</th>\n",
       "      <td>2</td>\n",
       "      <td>1</td>\n",
       "      <td>Service,service,Service,service,Service,servic...</td>\n",
       "    </tr>\n",
       "    <tr>\n",
       "      <th>3</th>\n",
       "      <td>3</td>\n",
       "      <td>2</td>\n",
       "      <td>selection,food selection,selection,selection,o...</td>\n",
       "    </tr>\n",
       "    <tr>\n",
       "      <th>4</th>\n",
       "      <td>4</td>\n",
       "      <td>3</td>\n",
       "      <td>quality,food quality,quality,quality of food,q...</td>\n",
       "    </tr>\n",
       "    <tr>\n",
       "      <th>...</th>\n",
       "      <td>...</td>\n",
       "      <td>...</td>\n",
       "      <td>...</td>\n",
       "    </tr>\n",
       "    <tr>\n",
       "      <th>63</th>\n",
       "      <td>63</td>\n",
       "      <td>62</td>\n",
       "      <td>pasta,pasta,noodles,spaghetti,pasta,pastas,pas...</td>\n",
       "    </tr>\n",
       "    <tr>\n",
       "      <th>64</th>\n",
       "      <td>64</td>\n",
       "      <td>63</td>\n",
       "      <td>Lobster Bisque soup,Egg Flower Soups,Albondiga...</td>\n",
       "    </tr>\n",
       "    <tr>\n",
       "      <th>65</th>\n",
       "      <td>65</td>\n",
       "      <td>64</td>\n",
       "      <td>red velvet cake,dessert section,chocolate milk...</td>\n",
       "    </tr>\n",
       "    <tr>\n",
       "      <th>66</th>\n",
       "      <td>66</td>\n",
       "      <td>65</td>\n",
       "      <td>sandwich,English muffin,bread,pork sandwich,sl...</td>\n",
       "    </tr>\n",
       "    <tr>\n",
       "      <th>67</th>\n",
       "      <td>67</td>\n",
       "      <td>66</td>\n",
       "      <td>batter,batter,bagels,pancakes,biscuits,dough,b...</td>\n",
       "    </tr>\n",
       "  </tbody>\n",
       "</table>\n",
       "<p>68 rows × 3 columns</p>\n",
       "</div>"
      ],
      "text/plain": [
       "    Unnamed: 0  label_st1                                              group\n",
       "0            0         -1  cranberry,interior,sever,Hiro,styrofoam,regist...\n",
       "1            1          0  food,food,food,food,food,food,food,food,food,f...\n",
       "2            2          1  Service,service,Service,service,Service,servic...\n",
       "3            3          2  selection,food selection,selection,selection,o...\n",
       "4            4          3  quality,food quality,quality,quality of food,q...\n",
       "..         ...        ...                                                ...\n",
       "63          63         62  pasta,pasta,noodles,spaghetti,pasta,pastas,pas...\n",
       "64          64         63  Lobster Bisque soup,Egg Flower Soups,Albondiga...\n",
       "65          65         64  red velvet cake,dessert section,chocolate milk...\n",
       "66          66         65  sandwich,English muffin,bread,pork sandwich,sl...\n",
       "67          67         66  batter,batter,bagels,pancakes,biscuits,dough,b...\n",
       "\n",
       "[68 rows x 3 columns]"
      ]
     },
     "execution_count": 7,
     "metadata": {},
     "output_type": "execute_result"
    }
   ],
   "source": [
    "corpus_clusters"
   ]
  },
  {
   "cell_type": "code",
   "execution_count": 8,
   "metadata": {},
   "outputs": [],
   "source": [
    "topic_categories = [\n",
    "    'service',\n",
    "    'hygeine', \n",
    "    'appetizer', \n",
    "    'desserts',\n",
    "    'drinks/bar', \n",
    "    'food',\n",
    "    'dishes', \n",
    "    'atmosphere', \n",
    "    'menu', \n",
    "    'price', \n",
    "    'management',\n",
    "    'staff'\n",
    "]"
   ]
  },
  {
   "cell_type": "code",
   "execution_count": 9,
   "metadata": {},
   "outputs": [],
   "source": [
    "# def embed(model, model_type, sentences):\n",
    "#     if model_type == 'use':\n",
    "#         embeddings = model(sentences)\n",
    "#     elif model_type == 'sentence transformer':\n",
    "#         embeddings = model.encode(sentences, show_progress_bar=True)\n",
    "    \n",
    "#     return embeddings"
   ]
  },
  {
   "cell_type": "code",
   "execution_count": 10,
   "metadata": {},
   "outputs": [],
   "source": [
    "def embed(model, sentences):\n",
    "#     if model_type == 'use':\n",
    "#         embeddings = model(sentences)\n",
    "#     elif model_type == 'sentence transformer':\n",
    "    embeddings = model.encode(sentences, show_progress_bar=True)\n",
    "    \n",
    "    return embeddings"
   ]
  },
  {
   "cell_type": "code",
   "execution_count": 11,
   "metadata": {},
   "outputs": [
    {
     "data": {
      "application/vnd.jupyter.widget-view+json": {
       "model_id": "ed30dedf7f464eab8f236b89ca7e6f0c",
       "version_major": 2,
       "version_minor": 0
      },
      "text/plain": [
       "Batches:   0%|          | 0/1 [00:00<?, ?it/s]"
      ]
     },
     "metadata": {},
     "output_type": "display_data"
    }
   ],
   "source": [
    "topic_categories_embeddings_st1 = embed(sentence_transformer, topic_categories)"
   ]
  },
  {
   "cell_type": "code",
   "execution_count": 12,
   "metadata": {},
   "outputs": [
    {
     "data": {
      "application/vnd.jupyter.widget-view+json": {
       "model_id": "b7a092be94484aaeb0ac560ff5a7cdc1",
       "version_major": 2,
       "version_minor": 0
      },
      "text/plain": [
       "Batches:   0%|          | 0/3 [00:00<?, ?it/s]"
      ]
     },
     "metadata": {},
     "output_type": "display_data"
    }
   ],
   "source": [
    "clusters_embedding = embed(sentence_transformer, corpus_clusters.group.to_list())"
   ]
  },
  {
   "cell_type": "code",
   "execution_count": 13,
   "metadata": {},
   "outputs": [],
   "source": [
    "from numpy.linalg import norm\n",
    "def cosine_sim(A,B):\n",
    "    cosine = np.dot(A,B)/(norm(A)*norm(B))\n",
    "    return cosine"
   ]
  },
  {
   "cell_type": "code",
   "execution_count": null,
   "metadata": {},
   "outputs": [],
   "source": []
  },
  {
   "cell_type": "code",
   "execution_count": 14,
   "metadata": {},
   "outputs": [],
   "source": [
    "labels = []\n",
    "for i in range(len(clusters_embedding)):\n",
    "    labels.append([cosine_sim(phrase, clusters_embedding[i]) for phrase in topic_categories_embeddings_st1])"
   ]
  },
  {
   "cell_type": "code",
   "execution_count": 15,
   "metadata": {},
   "outputs": [],
   "source": [
    "test = pd.DataFrame(labels, columns =topic_categories)\n",
    "test['topic'] = test.idxmax(axis=1)\n",
    "test['topic_strength'] = test.max(axis=1)\n",
    "test = test.round(2)"
   ]
  },
  {
   "cell_type": "code",
   "execution_count": 16,
   "metadata": {},
   "outputs": [
    {
     "data": {
      "text/html": [
       "<div>\n",
       "<style scoped>\n",
       "    .dataframe tbody tr th:only-of-type {\n",
       "        vertical-align: middle;\n",
       "    }\n",
       "\n",
       "    .dataframe tbody tr th {\n",
       "        vertical-align: top;\n",
       "    }\n",
       "\n",
       "    .dataframe thead th {\n",
       "        text-align: right;\n",
       "    }\n",
       "</style>\n",
       "<table border=\"1\" class=\"dataframe\">\n",
       "  <thead>\n",
       "    <tr style=\"text-align: right;\">\n",
       "      <th></th>\n",
       "      <th>service</th>\n",
       "      <th>hygeine</th>\n",
       "      <th>appetizer</th>\n",
       "      <th>desserts</th>\n",
       "      <th>drinks/bar</th>\n",
       "      <th>food</th>\n",
       "      <th>dishes</th>\n",
       "      <th>atmosphere</th>\n",
       "      <th>menu</th>\n",
       "      <th>price</th>\n",
       "      <th>management</th>\n",
       "      <th>staff</th>\n",
       "      <th>topic</th>\n",
       "      <th>topic_strength</th>\n",
       "    </tr>\n",
       "  </thead>\n",
       "  <tbody>\n",
       "    <tr>\n",
       "      <th>0</th>\n",
       "      <td>0.18</td>\n",
       "      <td>0.21</td>\n",
       "      <td>0.39</td>\n",
       "      <td>0.43</td>\n",
       "      <td>0.29</td>\n",
       "      <td>0.34</td>\n",
       "      <td>0.43</td>\n",
       "      <td>0.14</td>\n",
       "      <td>0.48</td>\n",
       "      <td>0.06</td>\n",
       "      <td>0.10</td>\n",
       "      <td>0.16</td>\n",
       "      <td>menu</td>\n",
       "      <td>0.48</td>\n",
       "    </tr>\n",
       "    <tr>\n",
       "      <th>1</th>\n",
       "      <td>0.18</td>\n",
       "      <td>0.22</td>\n",
       "      <td>0.27</td>\n",
       "      <td>0.37</td>\n",
       "      <td>0.28</td>\n",
       "      <td>0.55</td>\n",
       "      <td>0.42</td>\n",
       "      <td>0.17</td>\n",
       "      <td>0.37</td>\n",
       "      <td>0.19</td>\n",
       "      <td>0.21</td>\n",
       "      <td>0.15</td>\n",
       "      <td>food</td>\n",
       "      <td>0.55</td>\n",
       "    </tr>\n",
       "    <tr>\n",
       "      <th>2</th>\n",
       "      <td>0.60</td>\n",
       "      <td>0.17</td>\n",
       "      <td>0.19</td>\n",
       "      <td>0.26</td>\n",
       "      <td>0.25</td>\n",
       "      <td>0.27</td>\n",
       "      <td>0.25</td>\n",
       "      <td>0.14</td>\n",
       "      <td>0.30</td>\n",
       "      <td>0.12</td>\n",
       "      <td>0.35</td>\n",
       "      <td>0.32</td>\n",
       "      <td>service</td>\n",
       "      <td>0.60</td>\n",
       "    </tr>\n",
       "    <tr>\n",
       "      <th>3</th>\n",
       "      <td>0.10</td>\n",
       "      <td>0.15</td>\n",
       "      <td>0.30</td>\n",
       "      <td>0.36</td>\n",
       "      <td>0.11</td>\n",
       "      <td>0.49</td>\n",
       "      <td>0.24</td>\n",
       "      <td>0.20</td>\n",
       "      <td>0.40</td>\n",
       "      <td>0.10</td>\n",
       "      <td>0.26</td>\n",
       "      <td>0.10</td>\n",
       "      <td>food</td>\n",
       "      <td>0.49</td>\n",
       "    </tr>\n",
       "    <tr>\n",
       "      <th>4</th>\n",
       "      <td>0.23</td>\n",
       "      <td>0.12</td>\n",
       "      <td>0.23</td>\n",
       "      <td>0.30</td>\n",
       "      <td>0.13</td>\n",
       "      <td>0.42</td>\n",
       "      <td>0.32</td>\n",
       "      <td>0.16</td>\n",
       "      <td>0.42</td>\n",
       "      <td>0.15</td>\n",
       "      <td>0.27</td>\n",
       "      <td>0.17</td>\n",
       "      <td>food</td>\n",
       "      <td>0.42</td>\n",
       "    </tr>\n",
       "    <tr>\n",
       "      <th>...</th>\n",
       "      <td>...</td>\n",
       "      <td>...</td>\n",
       "      <td>...</td>\n",
       "      <td>...</td>\n",
       "      <td>...</td>\n",
       "      <td>...</td>\n",
       "      <td>...</td>\n",
       "      <td>...</td>\n",
       "      <td>...</td>\n",
       "      <td>...</td>\n",
       "      <td>...</td>\n",
       "      <td>...</td>\n",
       "      <td>...</td>\n",
       "      <td>...</td>\n",
       "    </tr>\n",
       "    <tr>\n",
       "      <th>63</th>\n",
       "      <td>0.10</td>\n",
       "      <td>0.19</td>\n",
       "      <td>0.38</td>\n",
       "      <td>0.36</td>\n",
       "      <td>0.23</td>\n",
       "      <td>0.45</td>\n",
       "      <td>0.45</td>\n",
       "      <td>0.14</td>\n",
       "      <td>0.39</td>\n",
       "      <td>0.03</td>\n",
       "      <td>0.10</td>\n",
       "      <td>0.06</td>\n",
       "      <td>food</td>\n",
       "      <td>0.45</td>\n",
       "    </tr>\n",
       "    <tr>\n",
       "      <th>64</th>\n",
       "      <td>0.03</td>\n",
       "      <td>0.13</td>\n",
       "      <td>0.27</td>\n",
       "      <td>0.31</td>\n",
       "      <td>0.18</td>\n",
       "      <td>0.25</td>\n",
       "      <td>0.30</td>\n",
       "      <td>0.03</td>\n",
       "      <td>0.32</td>\n",
       "      <td>0.02</td>\n",
       "      <td>-0.02</td>\n",
       "      <td>-0.02</td>\n",
       "      <td>menu</td>\n",
       "      <td>0.32</td>\n",
       "    </tr>\n",
       "    <tr>\n",
       "      <th>65</th>\n",
       "      <td>0.06</td>\n",
       "      <td>0.06</td>\n",
       "      <td>0.32</td>\n",
       "      <td>0.57</td>\n",
       "      <td>0.18</td>\n",
       "      <td>0.27</td>\n",
       "      <td>0.28</td>\n",
       "      <td>0.04</td>\n",
       "      <td>0.33</td>\n",
       "      <td>0.03</td>\n",
       "      <td>0.01</td>\n",
       "      <td>0.08</td>\n",
       "      <td>desserts</td>\n",
       "      <td>0.57</td>\n",
       "    </tr>\n",
       "    <tr>\n",
       "      <th>66</th>\n",
       "      <td>0.09</td>\n",
       "      <td>0.18</td>\n",
       "      <td>0.39</td>\n",
       "      <td>0.36</td>\n",
       "      <td>0.17</td>\n",
       "      <td>0.40</td>\n",
       "      <td>0.33</td>\n",
       "      <td>0.15</td>\n",
       "      <td>0.40</td>\n",
       "      <td>0.01</td>\n",
       "      <td>0.08</td>\n",
       "      <td>0.10</td>\n",
       "      <td>food</td>\n",
       "      <td>0.40</td>\n",
       "    </tr>\n",
       "    <tr>\n",
       "      <th>67</th>\n",
       "      <td>0.06</td>\n",
       "      <td>0.22</td>\n",
       "      <td>0.28</td>\n",
       "      <td>0.44</td>\n",
       "      <td>0.20</td>\n",
       "      <td>0.40</td>\n",
       "      <td>0.38</td>\n",
       "      <td>0.13</td>\n",
       "      <td>0.30</td>\n",
       "      <td>0.02</td>\n",
       "      <td>0.07</td>\n",
       "      <td>0.08</td>\n",
       "      <td>desserts</td>\n",
       "      <td>0.44</td>\n",
       "    </tr>\n",
       "  </tbody>\n",
       "</table>\n",
       "<p>68 rows × 14 columns</p>\n",
       "</div>"
      ],
      "text/plain": [
       "    service  hygeine  appetizer  desserts  drinks/bar  food  dishes  \\\n",
       "0      0.18     0.21       0.39      0.43        0.29  0.34    0.43   \n",
       "1      0.18     0.22       0.27      0.37        0.28  0.55    0.42   \n",
       "2      0.60     0.17       0.19      0.26        0.25  0.27    0.25   \n",
       "3      0.10     0.15       0.30      0.36        0.11  0.49    0.24   \n",
       "4      0.23     0.12       0.23      0.30        0.13  0.42    0.32   \n",
       "..      ...      ...        ...       ...         ...   ...     ...   \n",
       "63     0.10     0.19       0.38      0.36        0.23  0.45    0.45   \n",
       "64     0.03     0.13       0.27      0.31        0.18  0.25    0.30   \n",
       "65     0.06     0.06       0.32      0.57        0.18  0.27    0.28   \n",
       "66     0.09     0.18       0.39      0.36        0.17  0.40    0.33   \n",
       "67     0.06     0.22       0.28      0.44        0.20  0.40    0.38   \n",
       "\n",
       "    atmosphere  menu  price  management  staff     topic  topic_strength  \n",
       "0         0.14  0.48   0.06        0.10   0.16      menu            0.48  \n",
       "1         0.17  0.37   0.19        0.21   0.15      food            0.55  \n",
       "2         0.14  0.30   0.12        0.35   0.32   service            0.60  \n",
       "3         0.20  0.40   0.10        0.26   0.10      food            0.49  \n",
       "4         0.16  0.42   0.15        0.27   0.17      food            0.42  \n",
       "..         ...   ...    ...         ...    ...       ...             ...  \n",
       "63        0.14  0.39   0.03        0.10   0.06      food            0.45  \n",
       "64        0.03  0.32   0.02       -0.02  -0.02      menu            0.32  \n",
       "65        0.04  0.33   0.03        0.01   0.08  desserts            0.57  \n",
       "66        0.15  0.40   0.01        0.08   0.10      food            0.40  \n",
       "67        0.13  0.30   0.02        0.07   0.08  desserts            0.44  \n",
       "\n",
       "[68 rows x 14 columns]"
      ]
     },
     "execution_count": 16,
     "metadata": {},
     "output_type": "execute_result"
    }
   ],
   "source": [
    "test"
   ]
  },
  {
   "cell_type": "code",
   "execution_count": 17,
   "metadata": {
    "scrolled": false
   },
   "outputs": [
    {
     "data": {
      "text/html": [
       "<div>\n",
       "<style scoped>\n",
       "    .dataframe tbody tr th:only-of-type {\n",
       "        vertical-align: middle;\n",
       "    }\n",
       "\n",
       "    .dataframe tbody tr th {\n",
       "        vertical-align: top;\n",
       "    }\n",
       "\n",
       "    .dataframe thead th {\n",
       "        text-align: right;\n",
       "    }\n",
       "</style>\n",
       "<table border=\"1\" class=\"dataframe\">\n",
       "  <thead>\n",
       "    <tr style=\"text-align: right;\">\n",
       "      <th></th>\n",
       "      <th>Unnamed: 0</th>\n",
       "      <th>label_st1</th>\n",
       "      <th>group</th>\n",
       "      <th>topic</th>\n",
       "      <th>topic_strength</th>\n",
       "    </tr>\n",
       "  </thead>\n",
       "  <tbody>\n",
       "    <tr>\n",
       "      <th>0</th>\n",
       "      <td>0</td>\n",
       "      <td>-1</td>\n",
       "      <td>cranberry,interior,sever,Hiro,styrofoam,regist...</td>\n",
       "      <td>menu</td>\n",
       "      <td>0.48</td>\n",
       "    </tr>\n",
       "    <tr>\n",
       "      <th>1</th>\n",
       "      <td>1</td>\n",
       "      <td>0</td>\n",
       "      <td>food,food,food,food,food,food,food,food,food,f...</td>\n",
       "      <td>food</td>\n",
       "      <td>0.55</td>\n",
       "    </tr>\n",
       "    <tr>\n",
       "      <th>2</th>\n",
       "      <td>2</td>\n",
       "      <td>1</td>\n",
       "      <td>Service,service,Service,service,Service,servic...</td>\n",
       "      <td>service</td>\n",
       "      <td>0.60</td>\n",
       "    </tr>\n",
       "    <tr>\n",
       "      <th>3</th>\n",
       "      <td>3</td>\n",
       "      <td>2</td>\n",
       "      <td>selection,food selection,selection,selection,o...</td>\n",
       "      <td>food</td>\n",
       "      <td>0.49</td>\n",
       "    </tr>\n",
       "    <tr>\n",
       "      <th>4</th>\n",
       "      <td>4</td>\n",
       "      <td>3</td>\n",
       "      <td>quality,food quality,quality,quality of food,q...</td>\n",
       "      <td>food</td>\n",
       "      <td>0.42</td>\n",
       "    </tr>\n",
       "    <tr>\n",
       "      <th>...</th>\n",
       "      <td>...</td>\n",
       "      <td>...</td>\n",
       "      <td>...</td>\n",
       "      <td>...</td>\n",
       "      <td>...</td>\n",
       "    </tr>\n",
       "    <tr>\n",
       "      <th>63</th>\n",
       "      <td>63</td>\n",
       "      <td>62</td>\n",
       "      <td>pasta,pasta,noodles,spaghetti,pasta,pastas,pas...</td>\n",
       "      <td>food</td>\n",
       "      <td>0.45</td>\n",
       "    </tr>\n",
       "    <tr>\n",
       "      <th>64</th>\n",
       "      <td>64</td>\n",
       "      <td>63</td>\n",
       "      <td>Lobster Bisque soup,Egg Flower Soups,Albondiga...</td>\n",
       "      <td>menu</td>\n",
       "      <td>0.32</td>\n",
       "    </tr>\n",
       "    <tr>\n",
       "      <th>65</th>\n",
       "      <td>65</td>\n",
       "      <td>64</td>\n",
       "      <td>red velvet cake,dessert section,chocolate milk...</td>\n",
       "      <td>desserts</td>\n",
       "      <td>0.57</td>\n",
       "    </tr>\n",
       "    <tr>\n",
       "      <th>66</th>\n",
       "      <td>66</td>\n",
       "      <td>65</td>\n",
       "      <td>sandwich,English muffin,bread,pork sandwich,sl...</td>\n",
       "      <td>food</td>\n",
       "      <td>0.40</td>\n",
       "    </tr>\n",
       "    <tr>\n",
       "      <th>67</th>\n",
       "      <td>67</td>\n",
       "      <td>66</td>\n",
       "      <td>batter,batter,bagels,pancakes,biscuits,dough,b...</td>\n",
       "      <td>desserts</td>\n",
       "      <td>0.44</td>\n",
       "    </tr>\n",
       "  </tbody>\n",
       "</table>\n",
       "<p>68 rows × 5 columns</p>\n",
       "</div>"
      ],
      "text/plain": [
       "    Unnamed: 0  label_st1                                              group  \\\n",
       "0            0         -1  cranberry,interior,sever,Hiro,styrofoam,regist...   \n",
       "1            1          0  food,food,food,food,food,food,food,food,food,f...   \n",
       "2            2          1  Service,service,Service,service,Service,servic...   \n",
       "3            3          2  selection,food selection,selection,selection,o...   \n",
       "4            4          3  quality,food quality,quality,quality of food,q...   \n",
       "..         ...        ...                                                ...   \n",
       "63          63         62  pasta,pasta,noodles,spaghetti,pasta,pastas,pas...   \n",
       "64          64         63  Lobster Bisque soup,Egg Flower Soups,Albondiga...   \n",
       "65          65         64  red velvet cake,dessert section,chocolate milk...   \n",
       "66          66         65  sandwich,English muffin,bread,pork sandwich,sl...   \n",
       "67          67         66  batter,batter,bagels,pancakes,biscuits,dough,b...   \n",
       "\n",
       "       topic  topic_strength  \n",
       "0       menu            0.48  \n",
       "1       food            0.55  \n",
       "2    service            0.60  \n",
       "3       food            0.49  \n",
       "4       food            0.42  \n",
       "..       ...             ...  \n",
       "63      food            0.45  \n",
       "64      menu            0.32  \n",
       "65  desserts            0.57  \n",
       "66      food            0.40  \n",
       "67  desserts            0.44  \n",
       "\n",
       "[68 rows x 5 columns]"
      ]
     },
     "execution_count": 17,
     "metadata": {},
     "output_type": "execute_result"
    }
   ],
   "source": [
    "label_strength = pd.concat([corpus_clusters, test[['topic','topic_strength']]], axis=1)\n",
    "label_strength"
   ]
  },
  {
   "cell_type": "code",
   "execution_count": 18,
   "metadata": {},
   "outputs": [],
   "source": [
    "label_strength_dict = dict(zip(label_strength['label_st1'] ,label_strength['topic_strength']))"
   ]
  },
  {
   "cell_type": "code",
   "execution_count": 19,
   "metadata": {},
   "outputs": [],
   "source": [
    "label_dict = dict(zip(label_strength['label_st1'] ,label_strength['topic']))\n",
    "label_dict[-1] = \"Unknown\""
   ]
  },
  {
   "cell_type": "code",
   "execution_count": 20,
   "metadata": {},
   "outputs": [
    {
     "name": "stdout",
     "output_type": "stream",
     "text": [
      "This script could only be used to manage NVIDIA GPUs,but no GPU found in your device\n"
     ]
    },
    {
     "name": "stderr",
     "output_type": "stream",
     "text": [
      "/Users/xiaoxiangma/anaconda3/lib/python3.7/site-packages/thinc/neural/train.py:7: DeprecationWarning: Using or importing the ABCs from 'collections' instead of from 'collections.abc' is deprecated since Python 3.3,and in 3.9 it will stop working\n",
      "  from .optimizers import Adam, linear_decay\n",
      "/Users/xiaoxiangma/anaconda3/lib/python3.7/site-packages/thinc/check.py:4: DeprecationWarning: Using or importing the ABCs from 'collections' instead of from 'collections.abc' is deprecated since Python 3.3,and in 3.9 it will stop working\n",
      "  from collections import Sequence, Sized, Iterable, Callable\n"
     ]
    },
    {
     "name": "stdout",
     "output_type": "stream",
     "text": [
      "Remote ABSADataset version: 2022.07.22 Local ABSADatasets version: None\n",
      "Unknown local version for ABSADatasets, please check the latest version of ABSADatasets at https://github.com/yangheng95/ABSADatasets\n"
     ]
    }
   ],
   "source": [
    "try:\n",
    "    with open('aspect_extractor.pkl', 'rb') as file:\n",
    "        aspect_extractor = pickle.load(file)\n",
    "\n",
    "\n",
    "except: \n",
    "    print(\"FAILED!!!\")\n",
    "#     aspect_extractor = ATEPCCheckpointManager.get_aspect_extractor(checkpoint='english')\n",
    "#     with open('aspect_extractor.pkl', 'wb') as file:\n",
    "#         pickle.dump(aspect_extractor, file)"
   ]
  },
  {
   "cell_type": "code",
   "execution_count": 21,
   "metadata": {},
   "outputs": [
    {
     "name": "stderr",
     "output_type": "stream",
     "text": [
      "/Users/xiaoxiangma/anaconda3/lib/python3.7/site-packages/ipykernel/ipkernel.py:287: DeprecationWarning: `should_run_async` will not call `transform_cell` automatically in the future. Please pass the result to `transformed_cell` argument and any exception that happen during thetransform in `preprocessing_exc_tuple` in IPython 7.17 and above.\n",
      "  and should_run_async(code)\n"
     ]
    }
   ],
   "source": [
    "user_review=['The cucumber cocktail was very refreshing, the pork in the hangover ramen was a bit hard to chew...',\n",
    "            'The pistachio icecream was a delight! Service was ok']"
   ]
  },
  {
   "cell_type": "code",
   "execution_count": 22,
   "metadata": {},
   "outputs": [
    {
     "name": "stderr",
     "output_type": "stream",
     "text": [
      "/Users/xiaoxiangma/anaconda3/lib/python3.7/site-packages/pyabsa/core/atepc/prediction/aspect_extractor.py:359: UserWarning: Creating a tensor from a list of numpy.ndarrays is extremely slow. Please consider converting the list to a single numpy.ndarray with numpy.array() before converting to a tensor. (Triggered internally at  /Users/runner/work/pytorch/pytorch/pytorch/torch/csrc/utils/tensor_new.cpp:204.)\n",
      "  lcf_cdm_vec = torch.tensor([f.lcf_cdm_vec for f in infer_features], dtype=torch.float32)\n"
     ]
    },
    {
     "name": "stdout",
     "output_type": "stream",
     "text": [
      "Text: The \u001b[32m<cucumber cocktail:Positive>\u001b[0m was very refreshing , the \u001b[31m<pork:Negative>\u001b[0m in the hangover \u001b[31m<ramen:Negative>\u001b[0m was a bit hard to chew . . .\n",
      "Text: The \u001b[32m<pistachio icecream:Positive>\u001b[0m was a delight ! \u001b[36m<Service:Neutral>\u001b[0m was ok\n"
     ]
    },
    {
     "name": "stderr",
     "output_type": "stream",
     "text": [
      "/Users/xiaoxiangma/anaconda3/lib/python3.7/site-packages/pyabsa/core/atepc/prediction/aspect_extractor.py:407: UserWarning: Implicit dimension choice for softmax has been deprecated. Change the call to include dim=X as an argument.\n",
      "  probs = [float(x) for x in F.softmax(i_apc_logits).cpu().numpy().tolist()]\n"
     ]
    }
   ],
   "source": [
    "atepc_result = aspect_extractor.extract_aspect(inference_source=user_review,\n",
    "                                               save_result=False,\n",
    "                                               print_result=True,  # print the result\n",
    "                                               pred_sentiment=True,  # Predict the sentiment of extracted aspect terms\n",
    "                                               )"
   ]
  },
  {
   "cell_type": "code",
   "execution_count": 23,
   "metadata": {},
   "outputs": [],
   "source": [
    "for i in range(len(atepc_result)):\n",
    "    atepc_result[i]['raw_text'] = user_review[i]"
   ]
  },
  {
   "cell_type": "code",
   "execution_count": 24,
   "metadata": {},
   "outputs": [
    {
     "data": {
      "text/html": [
       "<div>\n",
       "<style scoped>\n",
       "    .dataframe tbody tr th:only-of-type {\n",
       "        vertical-align: middle;\n",
       "    }\n",
       "\n",
       "    .dataframe tbody tr th {\n",
       "        vertical-align: top;\n",
       "    }\n",
       "\n",
       "    .dataframe thead th {\n",
       "        text-align: right;\n",
       "    }\n",
       "</style>\n",
       "<table border=\"1\" class=\"dataframe\">\n",
       "  <thead>\n",
       "    <tr style=\"text-align: right;\">\n",
       "      <th></th>\n",
       "      <th>text</th>\n",
       "      <th>aspect</th>\n",
       "      <th>sentiment</th>\n",
       "      <th>confidence</th>\n",
       "    </tr>\n",
       "  </thead>\n",
       "  <tbody>\n",
       "    <tr>\n",
       "      <th>0</th>\n",
       "      <td>The cucumber cocktail was very refreshing, the...</td>\n",
       "      <td>cucumber cocktail</td>\n",
       "      <td>Positive</td>\n",
       "      <td>0.999702</td>\n",
       "    </tr>\n",
       "    <tr>\n",
       "      <th>1</th>\n",
       "      <td>The cucumber cocktail was very refreshing, the...</td>\n",
       "      <td>pork</td>\n",
       "      <td>Negative</td>\n",
       "      <td>0.997258</td>\n",
       "    </tr>\n",
       "    <tr>\n",
       "      <th>2</th>\n",
       "      <td>The cucumber cocktail was very refreshing, the...</td>\n",
       "      <td>ramen</td>\n",
       "      <td>Negative</td>\n",
       "      <td>0.862358</td>\n",
       "    </tr>\n",
       "    <tr>\n",
       "      <th>3</th>\n",
       "      <td>The pistachio icecream was a delight! Service ...</td>\n",
       "      <td>pistachio icecream</td>\n",
       "      <td>Positive</td>\n",
       "      <td>0.999255</td>\n",
       "    </tr>\n",
       "    <tr>\n",
       "      <th>4</th>\n",
       "      <td>The pistachio icecream was a delight! Service ...</td>\n",
       "      <td>Service</td>\n",
       "      <td>Neutral</td>\n",
       "      <td>0.974351</td>\n",
       "    </tr>\n",
       "  </tbody>\n",
       "</table>\n",
       "</div>"
      ],
      "text/plain": [
       "                                                text              aspect  \\\n",
       "0  The cucumber cocktail was very refreshing, the...   cucumber cocktail   \n",
       "1  The cucumber cocktail was very refreshing, the...                pork   \n",
       "2  The cucumber cocktail was very refreshing, the...               ramen   \n",
       "3  The pistachio icecream was a delight! Service ...  pistachio icecream   \n",
       "4  The pistachio icecream was a delight! Service ...             Service   \n",
       "\n",
       "  sentiment  confidence  \n",
       "0  Positive    0.999702  \n",
       "1  Negative    0.997258  \n",
       "2  Negative    0.862358  \n",
       "3  Positive    0.999255  \n",
       "4   Neutral    0.974351  "
      ]
     },
     "execution_count": 24,
     "metadata": {},
     "output_type": "execute_result"
    }
   ],
   "source": [
    "sentiment_dict = {'Positive': 1, 'Negative': -1, 'Neutral': 0}\n",
    "\n",
    "cleanup = []\n",
    "for i in atepc_result:\n",
    "    for j in range(len(i['aspect'])):\n",
    "        cleanup.append([\n",
    "            i['raw_text'],\n",
    "            i['aspect'][j],\n",
    "#             sentiment_dict[\n",
    "                i['sentiment'][j],\n",
    "#             ],\n",
    "            i['confidence'][j]\n",
    "        ])\n",
    "cleanup = pd.DataFrame(cleanup)\n",
    "cleanup.columns = ['text', 'aspect', 'sentiment', 'confidence']\n",
    "cleanup"
   ]
  },
  {
   "cell_type": "code",
   "execution_count": 25,
   "metadata": {},
   "outputs": [
    {
     "name": "stderr",
     "output_type": "stream",
     "text": [
      "/Users/xiaoxiangma/anaconda3/lib/python3.7/site-packages/ipykernel/ipkernel.py:287: DeprecationWarning: `should_run_async` will not call `transform_cell` automatically in the future. Please pass the result to `transformed_cell` argument and any exception that happen during thetransform in `preprocessing_exc_tuple` in IPython 7.17 and above.\n",
      "  and should_run_async(code)\n"
     ]
    },
    {
     "data": {
      "text/plain": [
       "UMAP(angular_rp_forest=True, metric='cosine', n_components=17, n_neighbors=8, random_state=42, tqdm_kwds={'bar_format': '{desc}: {percentage:3.0f}%| {bar} {n_fmt}/{total_fmt} [{elapsed}]', 'desc': 'Epochs completed', 'disable': True})"
      ]
     },
     "execution_count": 25,
     "metadata": {},
     "output_type": "execute_result"
    }
   ],
   "source": [
    "umap_reducer"
   ]
  },
  {
   "cell_type": "code",
   "execution_count": 26,
   "metadata": {},
   "outputs": [
    {
     "data": {
      "application/vnd.jupyter.widget-view+json": {
       "model_id": "0f7c3991b99841b89ed6f2e1a18bb064",
       "version_major": 2,
       "version_minor": 0
      },
      "text/plain": [
       "Batches:   0%|          | 0/1 [00:00<?, ?it/s]"
      ]
     },
     "metadata": {},
     "output_type": "display_data"
    }
   ],
   "source": [
    "test_new_points = cleanup['aspect'].tolist()\n",
    "test_new_points_embeddings_st1 = embed(sentence_transformer, test_new_points)\n",
    "test_new_points_embeddings_st1_umap = umap_reducer.transform(test_new_points_embeddings_st1)\n",
    "test_labels, strengths = hdbscan.approximate_predict(hdbscan_clusters, test_new_points_embeddings_st1_umap)\n",
    "\n",
    "cleanup['topic'] = [label_dict[i] for i in test_labels]\n",
    "cleanup['topic_strength'] = [label_strength_dict[i] for i in test_labels]"
   ]
  },
  {
   "cell_type": "code",
   "execution_count": 27,
   "metadata": {},
   "outputs": [
    {
     "name": "stderr",
     "output_type": "stream",
     "text": [
      "/Users/xiaoxiangma/anaconda3/lib/python3.7/site-packages/ipykernel/ipkernel.py:287: DeprecationWarning: `should_run_async` will not call `transform_cell` automatically in the future. Please pass the result to `transformed_cell` argument and any exception that happen during thetransform in `preprocessing_exc_tuple` in IPython 7.17 and above.\n",
      "  and should_run_async(code)\n"
     ]
    }
   ],
   "source": [
    "# cleanup.raw_text = cleanup.raw_text.astype(str)"
   ]
  },
  {
   "cell_type": "code",
   "execution_count": 28,
   "metadata": {
    "scrolled": true
   },
   "outputs": [
    {
     "data": {
      "text/html": [
       "<div>\n",
       "<style scoped>\n",
       "    .dataframe tbody tr th:only-of-type {\n",
       "        vertical-align: middle;\n",
       "    }\n",
       "\n",
       "    .dataframe tbody tr th {\n",
       "        vertical-align: top;\n",
       "    }\n",
       "\n",
       "    .dataframe thead th {\n",
       "        text-align: right;\n",
       "    }\n",
       "</style>\n",
       "<table border=\"1\" class=\"dataframe\">\n",
       "  <thead>\n",
       "    <tr style=\"text-align: right;\">\n",
       "      <th></th>\n",
       "      <th>text</th>\n",
       "      <th>aspect</th>\n",
       "      <th>sentiment</th>\n",
       "      <th>confidence</th>\n",
       "      <th>topic</th>\n",
       "      <th>topic_strength</th>\n",
       "    </tr>\n",
       "  </thead>\n",
       "  <tbody>\n",
       "    <tr>\n",
       "      <th>0</th>\n",
       "      <td>The cucumber cocktail was very refreshing, the...</td>\n",
       "      <td>cucumber cocktail</td>\n",
       "      <td>Positive</td>\n",
       "      <td>0.999702</td>\n",
       "      <td>Unknown</td>\n",
       "      <td>0.48</td>\n",
       "    </tr>\n",
       "    <tr>\n",
       "      <th>1</th>\n",
       "      <td>The cucumber cocktail was very refreshing, the...</td>\n",
       "      <td>pork</td>\n",
       "      <td>Negative</td>\n",
       "      <td>0.997258</td>\n",
       "      <td>menu</td>\n",
       "      <td>0.45</td>\n",
       "    </tr>\n",
       "    <tr>\n",
       "      <th>2</th>\n",
       "      <td>The cucumber cocktail was very refreshing, the...</td>\n",
       "      <td>ramen</td>\n",
       "      <td>Negative</td>\n",
       "      <td>0.862358</td>\n",
       "      <td>Unknown</td>\n",
       "      <td>0.48</td>\n",
       "    </tr>\n",
       "    <tr>\n",
       "      <th>3</th>\n",
       "      <td>The pistachio icecream was a delight! Service ...</td>\n",
       "      <td>pistachio icecream</td>\n",
       "      <td>Positive</td>\n",
       "      <td>0.999255</td>\n",
       "      <td>Unknown</td>\n",
       "      <td>0.48</td>\n",
       "    </tr>\n",
       "    <tr>\n",
       "      <th>4</th>\n",
       "      <td>The pistachio icecream was a delight! Service ...</td>\n",
       "      <td>Service</td>\n",
       "      <td>Neutral</td>\n",
       "      <td>0.974351</td>\n",
       "      <td>Unknown</td>\n",
       "      <td>0.48</td>\n",
       "    </tr>\n",
       "  </tbody>\n",
       "</table>\n",
       "</div>"
      ],
      "text/plain": [
       "                                                text              aspect  \\\n",
       "0  The cucumber cocktail was very refreshing, the...   cucumber cocktail   \n",
       "1  The cucumber cocktail was very refreshing, the...                pork   \n",
       "2  The cucumber cocktail was very refreshing, the...               ramen   \n",
       "3  The pistachio icecream was a delight! Service ...  pistachio icecream   \n",
       "4  The pistachio icecream was a delight! Service ...             Service   \n",
       "\n",
       "  sentiment  confidence    topic  topic_strength  \n",
       "0  Positive    0.999702  Unknown            0.48  \n",
       "1  Negative    0.997258     menu            0.45  \n",
       "2  Negative    0.862358  Unknown            0.48  \n",
       "3  Positive    0.999255  Unknown            0.48  \n",
       "4   Neutral    0.974351  Unknown            0.48  "
      ]
     },
     "execution_count": 28,
     "metadata": {},
     "output_type": "execute_result"
    }
   ],
   "source": [
    "cleanup"
   ]
  },
  {
   "cell_type": "code",
   "execution_count": 29,
   "metadata": {},
   "outputs": [
    {
     "name": "stderr",
     "output_type": "stream",
     "text": [
      "/Users/xiaoxiangma/anaconda3/lib/python3.7/site-packages/ipykernel/ipkernel.py:287: DeprecationWarning: `should_run_async` will not call `transform_cell` automatically in the future. Please pass the result to `transformed_cell` argument and any exception that happen during thetransform in `preprocessing_exc_tuple` in IPython 7.17 and above.\n",
      "  and should_run_async(code)\n"
     ]
    }
   ],
   "source": [
    "cleanup.confidence = cleanup.confidence.round(2)"
   ]
  },
  {
   "cell_type": "code",
   "execution_count": 30,
   "metadata": {},
   "outputs": [
    {
     "data": {
      "text/html": [
       "<div>\n",
       "<style scoped>\n",
       "    .dataframe tbody tr th:only-of-type {\n",
       "        vertical-align: middle;\n",
       "    }\n",
       "\n",
       "    .dataframe tbody tr th {\n",
       "        vertical-align: top;\n",
       "    }\n",
       "\n",
       "    .dataframe thead th {\n",
       "        text-align: right;\n",
       "    }\n",
       "</style>\n",
       "<table border=\"1\" class=\"dataframe\">\n",
       "  <thead>\n",
       "    <tr style=\"text-align: right;\">\n",
       "      <th></th>\n",
       "      <th></th>\n",
       "      <th>aspect</th>\n",
       "      <th>aspect_topic</th>\n",
       "      <th>sentiment_confidence</th>\n",
       "      <th>topic_confidence</th>\n",
       "    </tr>\n",
       "    <tr>\n",
       "      <th>text</th>\n",
       "      <th>sentiment</th>\n",
       "      <th></th>\n",
       "      <th></th>\n",
       "      <th></th>\n",
       "      <th></th>\n",
       "    </tr>\n",
       "  </thead>\n",
       "  <tbody>\n",
       "    <tr>\n",
       "      <th rowspan=\"2\" valign=\"top\">The cucumber cocktail was very refreshing, the pork in the hangover ramen was a bit hard to chew...</th>\n",
       "      <th>Negative</th>\n",
       "      <td>[pork, ramen]</td>\n",
       "      <td>[menu, Unknown]</td>\n",
       "      <td>[1.0, 0.86]</td>\n",
       "      <td>[0.45, 0.48]</td>\n",
       "    </tr>\n",
       "    <tr>\n",
       "      <th>Positive</th>\n",
       "      <td>[cucumber cocktail]</td>\n",
       "      <td>[Unknown]</td>\n",
       "      <td>[1.0]</td>\n",
       "      <td>[0.48]</td>\n",
       "    </tr>\n",
       "    <tr>\n",
       "      <th rowspan=\"2\" valign=\"top\">The pistachio icecream was a delight! Service was ok</th>\n",
       "      <th>Neutral</th>\n",
       "      <td>[Service]</td>\n",
       "      <td>[Unknown]</td>\n",
       "      <td>[0.97]</td>\n",
       "      <td>[0.48]</td>\n",
       "    </tr>\n",
       "    <tr>\n",
       "      <th>Positive</th>\n",
       "      <td>[pistachio icecream]</td>\n",
       "      <td>[Unknown]</td>\n",
       "      <td>[1.0]</td>\n",
       "      <td>[0.48]</td>\n",
       "    </tr>\n",
       "  </tbody>\n",
       "</table>\n",
       "</div>"
      ],
      "text/plain": [
       "                                                                            aspect  \\\n",
       "text                                               sentiment                         \n",
       "The cucumber cocktail was very refreshing, the ... Negative          [pork, ramen]   \n",
       "                                                   Positive    [cucumber cocktail]   \n",
       "The pistachio icecream was a delight! Service w... Neutral               [Service]   \n",
       "                                                   Positive   [pistachio icecream]   \n",
       "\n",
       "                                                                 aspect_topic  \\\n",
       "text                                               sentiment                    \n",
       "The cucumber cocktail was very refreshing, the ... Negative   [menu, Unknown]   \n",
       "                                                   Positive         [Unknown]   \n",
       "The pistachio icecream was a delight! Service w... Neutral          [Unknown]   \n",
       "                                                   Positive         [Unknown]   \n",
       "\n",
       "                                                             sentiment_confidence  \\\n",
       "text                                               sentiment                        \n",
       "The cucumber cocktail was very refreshing, the ... Negative           [1.0, 0.86]   \n",
       "                                                   Positive                 [1.0]   \n",
       "The pistachio icecream was a delight! Service w... Neutral                 [0.97]   \n",
       "                                                   Positive                 [1.0]   \n",
       "\n",
       "                                                             topic_confidence  \n",
       "text                                               sentiment                   \n",
       "The cucumber cocktail was very refreshing, the ... Negative      [0.45, 0.48]  \n",
       "                                                   Positive            [0.48]  \n",
       "The pistachio icecream was a delight! Service w... Neutral             [0.48]  \n",
       "                                                   Positive            [0.48]  "
      ]
     },
     "execution_count": 30,
     "metadata": {},
     "output_type": "execute_result"
    }
   ],
   "source": [
    "df_display = cleanup.groupby(['text','sentiment']).agg(\n",
    "    aspect=('aspect', lambda x: list(x)),\n",
    "    aspect_topic=('topic', lambda x: list(x)),\n",
    "    sentiment_confidence=('confidence', lambda x: list(x)),\n",
    "    topic_confidence=('topic_strength', lambda x: list(x)),\n",
    ")\n",
    "\n",
    "df_display"
   ]
  },
  {
   "cell_type": "code",
   "execution_count": null,
   "metadata": {},
   "outputs": [],
   "source": []
  }
 ],
 "metadata": {
  "kernelspec": {
   "display_name": "Python 3",
   "language": "python",
   "name": "python3"
  },
  "language_info": {
   "codemirror_mode": {
    "name": "ipython",
    "version": 3
   },
   "file_extension": ".py",
   "mimetype": "text/x-python",
   "name": "python",
   "nbconvert_exporter": "python",
   "pygments_lexer": "ipython3",
   "version": "3.7.10"
  }
 },
 "nbformat": 4,
 "nbformat_minor": 4
}
