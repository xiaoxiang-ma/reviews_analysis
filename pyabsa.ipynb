{
 "cells": [
  {
   "cell_type": "code",
   "execution_count": 1,
   "metadata": {},
   "outputs": [],
   "source": [
    "# https://github.com/yangheng95/ABSADatasets\n",
    "# https://arxiv.org/abs/1912.07976"
   ]
  },
  {
   "cell_type": "code",
   "execution_count": 4,
   "metadata": {},
   "outputs": [],
   "source": [
    "import pandas as pd\n",
    "import numpy as np\n",
    "from pyabsa.functional import ABSADatasetList\n",
    "from pyabsa.functional import ATEPCCheckpointManager\n",
    "import pickle"
   ]
  },
  {
   "cell_type": "code",
   "execution_count": 3,
   "metadata": {},
   "outputs": [
    {
     "data": {
      "text/plain": [
       "0                               Wow... Loved this place.\n",
       "1                                     Crust is not good.\n",
       "2              Not tasty and the texture was just nasty.\n",
       "3      Stopped by during the late May bank holiday of...\n",
       "4      The selection on the menu was great and so wer...\n",
       "                             ...                        \n",
       "995    I think food should have flavor and texture an...\n",
       "996                             Appetite instantly gone.\n",
       "997    Overall I was not impressed and would not go b...\n",
       "998    The whole experience was underwhelming, and I ...\n",
       "999    Then, as if I hadn't wasted enough of my life ...\n",
       "Name: Review, Length: 1000, dtype: object"
      ]
     },
     "execution_count": 3,
     "metadata": {},
     "output_type": "execute_result"
    }
   ],
   "source": [
    "res_reviews = pd.read_csv(\"Restaurant_Reviews.tsv\", sep='\\t')\n",
    "res_reviews.Review"
   ]
  },
  {
   "cell_type": "code",
   "execution_count": 6,
   "metadata": {
    "scrolled": true
   },
   "outputs": [
    {
     "name": "stderr",
     "output_type": "stream",
     "text": [
      "/Users/xiaoxiangma/anaconda3/lib/python3.7/site-packages/ipykernel/ipkernel.py:287: DeprecationWarning: `should_run_async` will not call `transform_cell` automatically in the future. Please pass the result to `transformed_cell` argument and any exception that happen during thetransform in `preprocessing_exc_tuple` in IPython 7.17 and above.\n",
      "  and should_run_async(code)\n"
     ]
    }
   ],
   "source": [
    "try:\n",
    "    with open('aspect_extractor.pkl', 'rb') as file:\n",
    "        aspect_extractor = pickle.load(file)\n",
    "\n",
    "\n",
    "except:  \n",
    "    aspect_extractor = ATEPCCheckpointManager.get_aspect_extractor(checkpoint='english')\n",
    "    with open('aspect_extractor.pkl', 'wb') as file:\n",
    "        pickle.dump(aspect_extractor, file)"
   ]
  },
  {
   "cell_type": "code",
   "execution_count": 7,
   "metadata": {},
   "outputs": [
    {
     "data": {
      "text/plain": [
       "<pyabsa.core.atepc.prediction.aspect_extractor.AspectExtractor at 0x7fdaa91b4a10>"
      ]
     },
     "execution_count": 7,
     "metadata": {},
     "output_type": "execute_result"
    }
   ],
   "source": [
    "aspect_extractor"
   ]
  },
  {
   "cell_type": "code",
   "execution_count": 8,
   "metadata": {},
   "outputs": [],
   "source": [
    "examples = [\n",
    "    'The waitress was attentive and polite, and the food was served quickly. \\\n",
    "    However, the portions were small and the prices were high.',\n",
    "    'Overall, the experience was good but could be improved. The waitress did a great job \\\n",
    "    but the restaurant could work on its portion sizes and prices.'\n",
    "]"
   ]
  },
  {
   "cell_type": "code",
   "execution_count": 17,
   "metadata": {},
   "outputs": [],
   "source": [
    "aspect_extractor??"
   ]
  },
  {
   "cell_type": "code",
   "execution_count": 9,
   "metadata": {},
   "outputs": [
    {
     "name": "stderr",
     "output_type": "stream",
     "text": [
      "/Users/xiaoxiangma/anaconda3/lib/python3.7/site-packages/pyabsa/core/atepc/prediction/aspect_extractor.py:359: UserWarning: Creating a tensor from a list of numpy.ndarrays is extremely slow. Please consider converting the list to a single numpy.ndarray with numpy.array() before converting to a tensor. (Triggered internally at  /Users/runner/work/pytorch/pytorch/pytorch/torch/csrc/utils/tensor_new.cpp:204.)\n",
      "  lcf_cdm_vec = torch.tensor([f.lcf_cdm_vec for f in infer_features], dtype=torch.float32)\n"
     ]
    },
    {
     "name": "stdout",
     "output_type": "stream",
     "text": [
      "The results of aspect term extraction have been saved in /Users/xiaoxiangma/Documents/GitHub/reviews_analysis/atepc_inference.result.json\n",
      "Text: The \u001b[32m<waitress:Positive>\u001b[0m was attentive and polite , and the \u001b[32m<food:Positive>\u001b[0m was \u001b[32m<served:Positive>\u001b[0m quickly . However , the \u001b[31m<portions:Negative>\u001b[0m were small and the \u001b[31m<prices:Negative>\u001b[0m were high .\n",
      "Text: Overall , the experience was good but could be improved . The \u001b[32m<waitress:Positive>\u001b[0m did a great job but the restaurant could work on its \u001b[31m<portion sizes:Negative>\u001b[0m and \u001b[31m<prices:Negative>\u001b[0m .\n"
     ]
    },
    {
     "name": "stderr",
     "output_type": "stream",
     "text": [
      "/Users/xiaoxiangma/anaconda3/lib/python3.7/site-packages/pyabsa/core/atepc/prediction/aspect_extractor.py:407: UserWarning: Implicit dimension choice for softmax has been deprecated. Change the call to include dim=X as an argument.\n",
      "  probs = [float(x) for x in F.softmax(i_apc_logits).cpu().numpy().tolist()]\n"
     ]
    }
   ],
   "source": [
    "atepc_result = aspect_extractor.extract_aspect(inference_source=examples,\n",
    "                                               save_result=True,\n",
    "                                               print_result=True,  # print the result\n",
    "                                               pred_sentiment=True,  # Predict the sentiment of extracted aspect terms\n",
    "                                               )"
   ]
  },
  {
   "cell_type": "code",
   "execution_count": 18,
   "metadata": {},
   "outputs": [
    {
     "data": {
      "text/plain": [
       "[{'sentence': 'The \\x1b[32m<waitress:Positive>\\x1b[0m was attentive and polite , and the \\x1b[32m<food:Positive>\\x1b[0m was \\x1b[32m<served:Positive>\\x1b[0m quickly . However , the \\x1b[31m<portions:Negative>\\x1b[0m were small and the \\x1b[31m<prices:Negative>\\x1b[0m were high .',\n",
       "  'IOB': ['O',\n",
       "   'B-ASP',\n",
       "   'O',\n",
       "   'O',\n",
       "   'O',\n",
       "   'O',\n",
       "   'O',\n",
       "   'O',\n",
       "   'O',\n",
       "   'B-ASP',\n",
       "   'O',\n",
       "   'B-ASP',\n",
       "   'O',\n",
       "   'O',\n",
       "   'O',\n",
       "   'O',\n",
       "   'O',\n",
       "   'B-ASP',\n",
       "   'O',\n",
       "   'O',\n",
       "   'O',\n",
       "   'O',\n",
       "   'B-ASP',\n",
       "   'O',\n",
       "   'O',\n",
       "   'O'],\n",
       "  'tokens': ['The',\n",
       "   'waitress',\n",
       "   'was',\n",
       "   'attentive',\n",
       "   'and',\n",
       "   'polite',\n",
       "   ',',\n",
       "   'and',\n",
       "   'the',\n",
       "   'food',\n",
       "   'was',\n",
       "   'served',\n",
       "   'quickly',\n",
       "   '.',\n",
       "   'However',\n",
       "   ',',\n",
       "   'the',\n",
       "   'portions',\n",
       "   'were',\n",
       "   'small',\n",
       "   'and',\n",
       "   'the',\n",
       "   'prices',\n",
       "   'were',\n",
       "   'high',\n",
       "   '.'],\n",
       "  'aspect': ['waitress', 'food', 'served', 'portions', 'prices'],\n",
       "  'position': [[2], [10], [12], [18], [23]],\n",
       "  'sentiment': ['Positive', 'Positive', 'Positive', 'Negative', 'Negative'],\n",
       "  'probs': [[0.0003638204652816057,\n",
       "    0.00011209863441763446,\n",
       "    0.9995241165161133],\n",
       "   [6.631186988670379e-05, 0.021510111168026924, 0.978423535823822],\n",
       "   [0.00011901162361027673, 0.006756306625902653, 0.9931246638298035],\n",
       "   [0.9996521472930908, 4.7082125092856586e-05, 0.0003007391933351755],\n",
       "   [0.9997522234916687, 6.042893437552266e-05, 0.0001874070439953357]],\n",
       "  'confidence': [0.9995241165161133,\n",
       "   0.978423535823822,\n",
       "   0.9931246638298035,\n",
       "   0.9996521472930908,\n",
       "   0.9997522234916687]},\n",
       " {'sentence': 'Overall , the experience was good but could be improved . The \\x1b[32m<waitress:Positive>\\x1b[0m did a great job but the restaurant could work on its \\x1b[31m<portion sizes:Negative>\\x1b[0m and \\x1b[31m<prices:Negative>\\x1b[0m .',\n",
       "  'IOB': ['O',\n",
       "   'O',\n",
       "   'O',\n",
       "   'O',\n",
       "   'O',\n",
       "   'O',\n",
       "   'O',\n",
       "   'O',\n",
       "   'O',\n",
       "   'O',\n",
       "   'O',\n",
       "   'O',\n",
       "   'B-ASP',\n",
       "   'O',\n",
       "   'O',\n",
       "   'O',\n",
       "   'O',\n",
       "   'O',\n",
       "   'O',\n",
       "   'O',\n",
       "   'O',\n",
       "   'O',\n",
       "   'O',\n",
       "   'O',\n",
       "   'B-ASP',\n",
       "   'I-ASP',\n",
       "   'O',\n",
       "   'B-ASP',\n",
       "   'O'],\n",
       "  'tokens': ['Overall',\n",
       "   ',',\n",
       "   'the',\n",
       "   'experience',\n",
       "   'was',\n",
       "   'good',\n",
       "   'but',\n",
       "   'could',\n",
       "   'be',\n",
       "   'improved',\n",
       "   '.',\n",
       "   'The',\n",
       "   'waitress',\n",
       "   'did',\n",
       "   'a',\n",
       "   'great',\n",
       "   'job',\n",
       "   'but',\n",
       "   'the',\n",
       "   'restaurant',\n",
       "   'could',\n",
       "   'work',\n",
       "   'on',\n",
       "   'its',\n",
       "   'portion',\n",
       "   'sizes',\n",
       "   'and',\n",
       "   'prices',\n",
       "   '.'],\n",
       "  'aspect': ['waitress', 'portion sizes', 'prices'],\n",
       "  'position': [[13], [25, 26], [28]],\n",
       "  'sentiment': ['Positive', 'Negative', 'Negative'],\n",
       "  'probs': [[0.00020529092580545694,\n",
       "    0.0001049558850354515,\n",
       "    0.9996898174285889],\n",
       "   [0.9990689158439636, 0.0006454070098698139, 0.00028573276358656585],\n",
       "   [0.9968007802963257, 0.0028803704772144556, 0.0003187663678545505]],\n",
       "  'confidence': [0.9996898174285889, 0.9990689158439636, 0.9968007802963257]}]"
      ]
     },
     "execution_count": 18,
     "metadata": {},
     "output_type": "execute_result"
    }
   ],
   "source": [
    "atepc_result"
   ]
  },
  {
   "cell_type": "code",
   "execution_count": null,
   "metadata": {},
   "outputs": [],
   "source": []
  }
 ],
 "metadata": {
  "kernelspec": {
   "display_name": "Python 3",
   "language": "python",
   "name": "python3"
  },
  "language_info": {
   "codemirror_mode": {
    "name": "ipython",
    "version": 3
   },
   "file_extension": ".py",
   "mimetype": "text/x-python",
   "name": "python",
   "nbconvert_exporter": "python",
   "pygments_lexer": "ipython3",
   "version": "3.7.10"
  }
 },
 "nbformat": 4,
 "nbformat_minor": 4
}
