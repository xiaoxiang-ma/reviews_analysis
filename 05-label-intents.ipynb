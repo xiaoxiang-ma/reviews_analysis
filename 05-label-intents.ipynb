{
 "cells": [
  {
   "cell_type": "markdown",
   "id": "08f0e0e3-673a-4519-82b0-464390a854ce",
   "metadata": {},
   "source": [
    "# Chat Intents\n",
    "\n",
    "## Applying labels"
   ]
  },
  {
   "cell_type": "markdown",
   "id": "1075615f-f7bf-4821-a334-05aff11bdf75",
   "metadata": {},
   "source": [
    "**Summary**\n",
    "\n",
    "This notebook provides a way to automatically extract and apply labels to document clusters. See the `chatintents_tutorial.ipynb` notebook for a tutorial of the chatintents package, which simplifies and makes it easier to use the methods outlined below."
   ]
  },
  {
   "cell_type": "code",
   "execution_count": 1,
   "id": "618f935e-6b45-48e7-9ad9-1751b5db2f53",
   "metadata": {},
   "outputs": [],
   "source": [
    "import collections\n",
    "from pathlib import Path\n",
    "\n",
    "import numpy as np\n",
    "import pandas as pd\n",
    "import spacy\n",
    "from spacy import displacy\n",
    "\n",
    "pd.set_option(\"display.max_rows\", 600)\n",
    "pd.set_option(\"display.max_columns\", 500)\n",
    "pd.set_option(\"max_colwidth\", 400)"
   ]
  },
  {
   "cell_type": "code",
   "execution_count": 2,
   "id": "60539182-fdae-4ce4-9526-4db8254a81d0",
   "metadata": {},
   "outputs": [],
   "source": [
    "nlp = spacy.load(\"en_core_web_sm\")"
   ]
  },
  {
   "cell_type": "code",
   "execution_count": 29,
   "metadata": {},
   "outputs": [],
   "source": [
    "data_clustered = pd.read_csv('sample_clustered.csv')"
   ]
  },
  {
   "cell_type": "code",
   "execution_count": 30,
   "id": "c09ef225-35a4-45b8-b5e0-e7671a9c55ae",
   "metadata": {},
   "outputs": [
    {
     "data": {
      "text/html": [
       "<div>\n",
       "<style scoped>\n",
       "    .dataframe tbody tr th:only-of-type {\n",
       "        vertical-align: middle;\n",
       "    }\n",
       "\n",
       "    .dataframe tbody tr th {\n",
       "        vertical-align: top;\n",
       "    }\n",
       "\n",
       "    .dataframe thead th {\n",
       "        text-align: right;\n",
       "    }\n",
       "</style>\n",
       "<table border=\"1\" class=\"dataframe\">\n",
       "  <thead>\n",
       "    <tr style=\"text-align: right;\">\n",
       "      <th></th>\n",
       "      <th>0</th>\n",
       "      <th>label_st1</th>\n",
       "    </tr>\n",
       "  </thead>\n",
       "  <tbody>\n",
       "    <tr>\n",
       "      <th>64</th>\n",
       "      <td>service</td>\n",
       "      <td>2</td>\n",
       "    </tr>\n",
       "    <tr>\n",
       "      <th>652</th>\n",
       "      <td>service</td>\n",
       "      <td>2</td>\n",
       "    </tr>\n",
       "    <tr>\n",
       "      <th>536</th>\n",
       "      <td>owner price</td>\n",
       "      <td>3</td>\n",
       "    </tr>\n",
       "    <tr>\n",
       "      <th>226</th>\n",
       "      <td>bars tap water</td>\n",
       "      <td>3</td>\n",
       "    </tr>\n",
       "    <tr>\n",
       "      <th>571</th>\n",
       "      <td>dishes</td>\n",
       "      <td>3</td>\n",
       "    </tr>\n",
       "    <tr>\n",
       "      <th>568</th>\n",
       "      <td>atmosphere</td>\n",
       "      <td>3</td>\n",
       "    </tr>\n",
       "    <tr>\n",
       "      <th>680</th>\n",
       "      <td>place</td>\n",
       "      <td>0</td>\n",
       "    </tr>\n",
       "    <tr>\n",
       "      <th>156</th>\n",
       "      <td>dirt</td>\n",
       "      <td>3</td>\n",
       "    </tr>\n",
       "    <tr>\n",
       "      <th>22</th>\n",
       "      <td>Mexican street tacos staff</td>\n",
       "      <td>3</td>\n",
       "    </tr>\n",
       "    <tr>\n",
       "      <th>551</th>\n",
       "      <td>steak seafood plate</td>\n",
       "      <td>3</td>\n",
       "    </tr>\n",
       "  </tbody>\n",
       "</table>\n",
       "</div>"
      ],
      "text/plain": [
       "                              0  label_st1\n",
       "64                      service          2\n",
       "652                     service          2\n",
       "536                 owner price          3\n",
       "226              bars tap water          3\n",
       "571                      dishes          3\n",
       "568                  atmosphere          3\n",
       "680                       place          0\n",
       "156                        dirt          3\n",
       "22   Mexican street tacos staff          3\n",
       "551         steak seafood plate          3"
      ]
     },
     "execution_count": 30,
     "metadata": {},
     "output_type": "execute_result"
    }
   ],
   "source": [
    "data_clustered = data_clustered[['0', 'label_st1']]\n",
    "data_clustered.sample(10)"
   ]
  },
  {
   "cell_type": "code",
   "execution_count": 32,
   "id": "a31aba77-7a0d-4222-8ba8-1418dd3afcb4",
   "metadata": {
    "scrolled": true,
    "tags": []
   },
   "outputs": [
    {
     "data": {
      "text/html": [
       "<div>\n",
       "<style scoped>\n",
       "    .dataframe tbody tr th:only-of-type {\n",
       "        vertical-align: middle;\n",
       "    }\n",
       "\n",
       "    .dataframe tbody tr th {\n",
       "        vertical-align: top;\n",
       "    }\n",
       "\n",
       "    .dataframe thead th {\n",
       "        text-align: right;\n",
       "    }\n",
       "</style>\n",
       "<table border=\"1\" class=\"dataframe\">\n",
       "  <thead>\n",
       "    <tr style=\"text-align: right;\">\n",
       "      <th></th>\n",
       "      <th>0</th>\n",
       "      <th>label_st1</th>\n",
       "    </tr>\n",
       "  </thead>\n",
       "  <tbody>\n",
       "    <tr>\n",
       "      <th>0</th>\n",
       "      <td>Crust</td>\n",
       "      <td>3</td>\n",
       "    </tr>\n",
       "    <tr>\n",
       "      <th>1</th>\n",
       "      <td>texture</td>\n",
       "      <td>3</td>\n",
       "    </tr>\n",
       "    <tr>\n",
       "      <th>2</th>\n",
       "      <td>selection menu prices</td>\n",
       "      <td>3</td>\n",
       "    </tr>\n",
       "    <tr>\n",
       "      <th>3</th>\n",
       "      <td>pho</td>\n",
       "      <td>3</td>\n",
       "    </tr>\n",
       "    <tr>\n",
       "      <th>4</th>\n",
       "      <td>potatoes</td>\n",
       "      <td>3</td>\n",
       "    </tr>\n",
       "    <tr>\n",
       "      <th>...</th>\n",
       "      <td>...</td>\n",
       "      <td>...</td>\n",
       "    </tr>\n",
       "    <tr>\n",
       "      <th>612</th>\n",
       "      <td>table salad</td>\n",
       "      <td>3</td>\n",
       "    </tr>\n",
       "    <tr>\n",
       "      <th>613</th>\n",
       "      <td>food flavor texture</td>\n",
       "      <td>3</td>\n",
       "    </tr>\n",
       "    <tr>\n",
       "      <th>614</th>\n",
       "      <td>Appetite</td>\n",
       "      <td>3</td>\n",
       "    </tr>\n",
       "    <tr>\n",
       "      <th>615</th>\n",
       "      <td>experience Sushi</td>\n",
       "      <td>3</td>\n",
       "    </tr>\n",
       "    <tr>\n",
       "      <th>616</th>\n",
       "      <td>check</td>\n",
       "      <td>3</td>\n",
       "    </tr>\n",
       "  </tbody>\n",
       "</table>\n",
       "<p>617 rows × 2 columns</p>\n",
       "</div>"
      ],
      "text/plain": [
       "                         0  label_st1\n",
       "0                    Crust          3\n",
       "1                  texture          3\n",
       "2    selection menu prices          3\n",
       "3                      pho          3\n",
       "4                 potatoes          3\n",
       "..                     ...        ...\n",
       "612            table salad          3\n",
       "613    food flavor texture          3\n",
       "614               Appetite          3\n",
       "615       experience Sushi          3\n",
       "616                  check          3\n",
       "\n",
       "[617 rows x 2 columns]"
      ]
     },
     "execution_count": 32,
     "metadata": {},
     "output_type": "execute_result"
    }
   ],
   "source": [
    "example_category = data_clustered[data_clustered['label_st1']==3].reset_index(drop=True)\n",
    "example_category "
   ]
  },
  {
   "cell_type": "code",
   "execution_count": 33,
   "id": "d370349a-77ea-4f5d-b475-f5722631ab65",
   "metadata": {},
   "outputs": [
    {
     "name": "stdout",
     "output_type": "stream",
     "text": [
      "interior\n",
      "\n",
      "interior interior PROPN NNP ROOT False\n"
     ]
    }
   ],
   "source": [
    "example_doc = nlp(list(example_category['0'])[12])\n",
    "\n",
    "print(f'{example_doc}\\n')\n",
    "\n",
    "for token in example_doc:\n",
    "    print(token.text, token.lemma_, token.pos_, token.tag_, token.dep_ , token.is_stop)"
   ]
  },
  {
   "cell_type": "code",
   "execution_count": 34,
   "id": "fa36faf7-37e8-4210-a4aa-9c3df8d36694",
   "metadata": {},
   "outputs": [
    {
     "data": {
      "text/html": [
       "<svg xmlns=\"http://www.w3.org/2000/svg\" xmlns:xlink=\"http://www.w3.org/1999/xlink\" xml:lang=\"en\" id=\"2e93fb38aca644d68391f1495b17583f-0\" class=\"displacy\" width=\"225\" height=\"137.0\" direction=\"ltr\" style=\"max-width: none; height: 137.0px; color: #000000; background: #ffffff; font-family: Arial; direction: ltr\">\n",
       "<text class=\"displacy-token\" fill=\"currentColor\" text-anchor=\"middle\" y=\"47.0\">\n",
       "    <tspan class=\"displacy-word\" fill=\"currentColor\" x=\"50\">interior</tspan>\n",
       "    <tspan class=\"displacy-tag\" dy=\"2em\" fill=\"currentColor\" x=\"50\">PROPN</tspan>\n",
       "</text>\n",
       "</svg>"
      ],
      "text/plain": [
       "<IPython.core.display.HTML object>"
      ]
     },
     "metadata": {},
     "output_type": "display_data"
    }
   ],
   "source": [
    "displacy.render(example_doc, style=\"dep\")"
   ]
  },
  {
   "cell_type": "code",
   "execution_count": 35,
   "id": "c6140b2f-3d41-4a20-9299-d5889be86c7a",
   "metadata": {},
   "outputs": [],
   "source": [
    "# fig = displacy.render(example_doc, style=\"dep\", jupyter=False)\n",
    "# output_path = Path(\"dependency_plot.svg\") # you can keep there only \"dependency_plot.svg\" if you want to save it in the same folder where you run the script \n",
    "# output_path.open(\"w\", encoding=\"utf-8\").write(fig)"
   ]
  },
  {
   "cell_type": "markdown",
   "id": "0d7ff802-4beb-47c6-ac09-f47bd0818767",
   "metadata": {},
   "source": [
    "## Helper functions"
   ]
  },
  {
   "cell_type": "code",
   "execution_count": 36,
   "id": "5dff3237-57cf-4d85-8621-629b3005e180",
   "metadata": {},
   "outputs": [],
   "source": [
    "def get_group(df, category_col, category):\n",
    "    \"\"\"\n",
    "    Returns documents of a single category\n",
    "    \n",
    "    Arguments:\n",
    "        df: pandas dataframe of documents\n",
    "        category_col: str, column name corresponding to categories or clusters\n",
    "        category: int, cluster number to return\n",
    "    Returns:\n",
    "        single_category: pandas dataframe with documents from a single category\n",
    "    \"\"\"\n",
    "    \n",
    "    single_category = df[df[category_col]==category].reset_index(drop=True)\n",
    "\n",
    "    return single_category "
   ]
  },
  {
   "cell_type": "code",
   "execution_count": 37,
   "id": "73ae0ed7-fb8c-4e39-b9d6-43bf511044fc",
   "metadata": {},
   "outputs": [],
   "source": [
    "def most_common(lst, n_words):\n",
    "    \"\"\"\n",
    "    Get most common words in a list of words\n",
    "    \n",
    "    Arguments:\n",
    "        lst: list, each element is a word\n",
    "        n_words: number of top common words to return\n",
    "    \n",
    "    Returns:\n",
    "        counter.most_common(n_words): counter object of n most common words\n",
    "    \"\"\"\n",
    "    counter=collections.Counter(lst)\n",
    "    return counter.most_common(n_words)"
   ]
  },
  {
   "cell_type": "code",
   "execution_count": 38,
   "id": "a81a99eb-b8ee-4223-b6fc-a46ae33ffeac",
   "metadata": {
    "tags": []
   },
   "outputs": [],
   "source": [
    "def extract_labels(category_docs, print_word_counts=False):\n",
    "    \"\"\"\n",
    "    Extract labels from documents in the same cluster by concatenating\n",
    "    most common verbs, ojects, and nouns\n",
    "\n",
    "    Argument:\n",
    "        category_docs: list of documents, all from the same category or\n",
    "                       clustering\n",
    "        print_word_counts: bool, True will print word counts of each type in this category\n",
    "\n",
    "    Returns:\n",
    "        label: str, group label derived from concatentating most common\n",
    "               verb, object, and two most common nouns\n",
    "\n",
    "    \"\"\"\n",
    "\n",
    "    verbs = []\n",
    "    dobjs = []\n",
    "    nouns = []\n",
    "    adjs = []\n",
    "    \n",
    "    verb = ''\n",
    "    dobj = ''\n",
    "    noun1 = ''\n",
    "    noun2 = ''\n",
    "\n",
    "    # for each document, append verbs, dobs, nouns, and adjectives to \n",
    "    # running lists for whole cluster\n",
    "    for i in range(len(category_docs)):\n",
    "        doc = nlp(category_docs[i])\n",
    "        for token in doc:\n",
    "            if token.is_stop==False:\n",
    "                if token.dep_ == 'ROOT':\n",
    "                    verbs.append(token.text.lower())\n",
    "\n",
    "                elif token.dep_=='dobj':\n",
    "                    dobjs.append(token.lemma_.lower())\n",
    "\n",
    "                elif token.pos_=='NOUN':\n",
    "                    nouns.append(token.lemma_.lower())\n",
    "                    \n",
    "                elif token.pos_=='ADJ':\n",
    "                    adjs.append(token.lemma_.lower())\n",
    "\n",
    "    # for printing out for inspection purposes\n",
    "    if print_word_counts:\n",
    "        for word_lst in [verbs, dobjs, nouns, adjs]:\n",
    "            counter=collections.Counter(word_lst)\n",
    "            print(counter)\n",
    "    \n",
    "    # take most common words of each form\n",
    "    if len(verbs) > 0:\n",
    "        verb = most_common(verbs, 1)[0][0]\n",
    "    \n",
    "    if len(dobjs) > 0:\n",
    "        dobj = most_common(dobjs, 1)[0][0]\n",
    "    \n",
    "    if len(nouns) > 0:\n",
    "        noun1 = most_common(nouns, 1)[0][0]\n",
    "    \n",
    "    if len(set(nouns)) > 1:\n",
    "        noun2 = most_common(nouns, 2)[1][0]\n",
    "    \n",
    "    # concatenate the most common verb-dobj-noun1-noun2 (if they exist)\n",
    "    label_words = [verb, dobj]\n",
    "    \n",
    "    for word in [noun1, noun2]:\n",
    "        if word not in label_words:\n",
    "            label_words.append(word)\n",
    "    \n",
    "    if '' in label_words:\n",
    "        label_words.remove('')\n",
    "    \n",
    "    label = '_'.join(label_words)\n",
    "    \n",
    "    return label"
   ]
  },
  {
   "cell_type": "code",
   "execution_count": 39,
   "id": "ef5da8d4-19d4-40a5-a3aa-5fecdc15b1be",
   "metadata": {},
   "outputs": [],
   "source": [
    "def apply_and_summarize_labels(df, category_col):\n",
    "    \"\"\"\n",
    "    Assign groups to original documents and provide group counts\n",
    "\n",
    "    Arguments:\n",
    "        df: pandas dataframe of original documents of interest to\n",
    "            cluster\n",
    "        category_col: str, column name corresponding to categories or clusters\n",
    "\n",
    "    Returns:\n",
    "        summary_df: pandas dataframe with model cluster assignment, number\n",
    "                    of documents in each cluster and derived labels\n",
    "    \"\"\"\n",
    "    \n",
    "    numerical_labels = df[category_col].unique()\n",
    "    \n",
    "    # create dictionary of the numerical category to the generated label\n",
    "    label_dict = {}\n",
    "    for label in numerical_labels:\n",
    "        current_category = list(get_group(df, category_col, label)['0'])\n",
    "        label_dict[label] = extract_labels(current_category)\n",
    "        \n",
    "    # create summary dataframe of numerical labels and counts\n",
    "    summary_df = (df.groupby(category_col)['0'].count()\n",
    "                    .reset_index()\n",
    "                    .rename(columns={'0':'count'})\n",
    "                    .sort_values('count', ascending=False))\n",
    "    \n",
    "    # apply generated labels\n",
    "    summary_df['label'] = summary_df.apply(lambda x: label_dict[x[category_col]], axis = 1)\n",
    "    \n",
    "    return summary_df"
   ]
  },
  {
   "cell_type": "code",
   "execution_count": 40,
   "id": "89003de7-d535-43ba-abbc-bb2bd9eb7124",
   "metadata": {},
   "outputs": [],
   "source": [
    "def combine_ground_truth(df_clusters, df_ground, key):\n",
    "    \"\"\"\n",
    "    Combines dataframes of documents with extracted and ground truth labels\n",
    "    \n",
    "    Arguments:\n",
    "        df_clusters: pandas dataframe, each row as a document with corresponding extracted label\n",
    "        df_ground: pandas dataframe, each row as a document with corresponding ground truth label\n",
    "        key: str, key to merge tables on\n",
    "        \n",
    "    Returns:\n",
    "        df_combined: pandas dataframe, each row as a document with extracted and ground truth labels\n",
    "    \"\"\"\n",
    "    df_combined = pd.merge(df_clusters, df_ground, on=key, how = 'left')\n",
    "    return df_combined"
   ]
  },
  {
   "cell_type": "markdown",
   "id": "9ef76c17-3ad0-425c-8f40-e06bfc0b10d6",
   "metadata": {},
   "source": [
    "### Manual inspection"
   ]
  },
  {
   "cell_type": "code",
   "execution_count": 42,
   "id": "2e04be76-e8e1-4fb1-b0f9-849761029e1e",
   "metadata": {},
   "outputs": [
    {
     "name": "stdout",
     "output_type": "stream",
     "text": [
      "Counter({'service': 39, 'atmosphere': 2, 'company': 1, 'served': 1})\n",
      "Counter()\n",
      "Counter({'service': 4, 'family': 1})\n",
      "Counter()\n"
     ]
    },
    {
     "data": {
      "text/plain": [
       "'service_family'"
      ]
     },
     "execution_count": 42,
     "metadata": {},
     "output_type": "execute_result"
    }
   ],
   "source": [
    "example_category = list(get_group(data_clustered, 'label_st1', 2)['0'])\n",
    "extract_labels(example_category, True)"
   ]
  },
  {
   "cell_type": "markdown",
   "id": "670a9f88-1dda-4a41-a340-f4b889e05ce6",
   "metadata": {},
   "source": [
    "### Without ground truth labels"
   ]
  },
  {
   "cell_type": "code",
   "execution_count": 43,
   "id": "efdccfa6-9550-4be5-b8c5-4f3abc28e99b",
   "metadata": {},
   "outputs": [
    {
     "data": {
      "text/html": [
       "<div>\n",
       "<style scoped>\n",
       "    .dataframe tbody tr th:only-of-type {\n",
       "        vertical-align: middle;\n",
       "    }\n",
       "\n",
       "    .dataframe tbody tr th {\n",
       "        vertical-align: top;\n",
       "    }\n",
       "\n",
       "    .dataframe thead th {\n",
       "        text-align: right;\n",
       "    }\n",
       "</style>\n",
       "<table border=\"1\" class=\"dataframe\">\n",
       "  <thead>\n",
       "    <tr style=\"text-align: right;\">\n",
       "      <th></th>\n",
       "      <th>label_st1</th>\n",
       "      <th>count</th>\n",
       "      <th>label</th>\n",
       "    </tr>\n",
       "  </thead>\n",
       "  <tbody>\n",
       "    <tr>\n",
       "      <th>4</th>\n",
       "      <td>3</td>\n",
       "      <td>617</td>\n",
       "      <td>service_food</td>\n",
       "    </tr>\n",
       "    <tr>\n",
       "      <th>1</th>\n",
       "      <td>0</td>\n",
       "      <td>77</td>\n",
       "      <td>place_bathroom</td>\n",
       "    </tr>\n",
       "    <tr>\n",
       "      <th>2</th>\n",
       "      <td>1</td>\n",
       "      <td>52</td>\n",
       "      <td>food_attitude</td>\n",
       "    </tr>\n",
       "    <tr>\n",
       "      <th>3</th>\n",
       "      <td>2</td>\n",
       "      <td>43</td>\n",
       "      <td>service_family</td>\n",
       "    </tr>\n",
       "    <tr>\n",
       "      <th>0</th>\n",
       "      <td>-1</td>\n",
       "      <td>13</td>\n",
       "      <td>experience</td>\n",
       "    </tr>\n",
       "  </tbody>\n",
       "</table>\n",
       "</div>"
      ],
      "text/plain": [
       "   label_st1  count           label\n",
       "4          3    617    service_food\n",
       "1          0     77  place_bathroom\n",
       "2          1     52   food_attitude\n",
       "3          2     43  service_family\n",
       "0         -1     13      experience"
      ]
     },
     "execution_count": 43,
     "metadata": {},
     "output_type": "execute_result"
    }
   ],
   "source": [
    "cluster_summary = apply_and_summarize_labels(data_clustered, 'label_st1')\n",
    "cluster_summary"
   ]
  },
  {
   "cell_type": "code",
   "execution_count": 44,
   "id": "c1ef668b-25d5-418f-8941-774be4483dfc",
   "metadata": {},
   "outputs": [
    {
     "data": {
      "text/html": [
       "<div>\n",
       "<style scoped>\n",
       "    .dataframe tbody tr th:only-of-type {\n",
       "        vertical-align: middle;\n",
       "    }\n",
       "\n",
       "    .dataframe tbody tr th {\n",
       "        vertical-align: top;\n",
       "    }\n",
       "\n",
       "    .dataframe thead th {\n",
       "        text-align: right;\n",
       "    }\n",
       "</style>\n",
       "<table border=\"1\" class=\"dataframe\">\n",
       "  <thead>\n",
       "    <tr style=\"text-align: right;\">\n",
       "      <th></th>\n",
       "      <th>0</th>\n",
       "      <th>label_st1</th>\n",
       "      <th>label</th>\n",
       "    </tr>\n",
       "  </thead>\n",
       "  <tbody>\n",
       "    <tr>\n",
       "      <th>0</th>\n",
       "      <td>place</td>\n",
       "      <td>0</td>\n",
       "      <td>place_bathroom</td>\n",
       "    </tr>\n",
       "    <tr>\n",
       "      <th>1</th>\n",
       "      <td>Crust</td>\n",
       "      <td>3</td>\n",
       "      <td>service_food</td>\n",
       "    </tr>\n",
       "    <tr>\n",
       "      <th>2</th>\n",
       "      <td>texture</td>\n",
       "      <td>3</td>\n",
       "      <td>service_food</td>\n",
       "    </tr>\n",
       "    <tr>\n",
       "      <th>3</th>\n",
       "      <td>selection menu prices</td>\n",
       "      <td>3</td>\n",
       "      <td>service_food</td>\n",
       "    </tr>\n",
       "    <tr>\n",
       "      <th>4</th>\n",
       "      <td>pho</td>\n",
       "      <td>3</td>\n",
       "      <td>service_food</td>\n",
       "    </tr>\n",
       "  </tbody>\n",
       "</table>\n",
       "</div>"
      ],
      "text/plain": [
       "                       0  label_st1           label\n",
       "0                  place          0  place_bathroom\n",
       "1                  Crust          3    service_food\n",
       "2                texture          3    service_food\n",
       "3  selection menu prices          3    service_food\n",
       "4                    pho          3    service_food"
      ]
     },
     "execution_count": 44,
     "metadata": {},
     "output_type": "execute_result"
    }
   ],
   "source": [
    "labeled_clusters = pd.merge(data_clustered, cluster_summary[['label_st1', 'label']], on='label_st1', how = 'left')\n",
    "labeled_clusters.head()"
   ]
  },
  {
   "cell_type": "markdown",
   "id": "9870bd8e-60ba-4e73-bcbf-1b053933de5a",
   "metadata": {},
   "source": [
    "If we don't have the ground truth labels (which is the primary use case for this), then the above tables would be the final results. In this case, since we do have the ground truth labels we can investigate how well our model did."
   ]
  },
  {
   "cell_type": "markdown",
   "id": "41d88d46-4476-4873-a53b-4e8003990926",
   "metadata": {},
   "source": [
    "#### Count and name of most common category of generated labels and clusters"
   ]
  },
  {
   "cell_type": "code",
   "execution_count": null,
   "id": "d3522e0d-c3f0-49f1-b3ef-d5e36c43d528",
   "metadata": {},
   "outputs": [],
   "source": []
  }
 ],
 "metadata": {
  "kernelspec": {
   "display_name": "Python 3",
   "language": "python",
   "name": "python3"
  },
  "language_info": {
   "codemirror_mode": {
    "name": "ipython",
    "version": 3
   },
   "file_extension": ".py",
   "mimetype": "text/x-python",
   "name": "python",
   "nbconvert_exporter": "python",
   "pygments_lexer": "ipython3",
   "version": "3.7.10"
  }
 },
 "nbformat": 4,
 "nbformat_minor": 5
}
